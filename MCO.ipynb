{
  "cells": [
    {
      "cell_type": "markdown",
      "metadata": {
        "id": "view-in-github",
        "colab_type": "text"
      },
      "source": [
        "<a href=\"https://colab.research.google.com/github/MasterSlyer10/CSMODEL/blob/main/MCO.ipynb\" target=\"_parent\"><img src=\"https://colab.research.google.com/assets/colab-badge.svg\" alt=\"Open In Colab\"/></a>"
      ]
    },
    {
      "cell_type": "markdown",
      "metadata": {
        "id": "Yxtuxdqmvfuc"
      },
      "source": [
        "# Exploring the Correlation between Health Indicators and Stroke Incidence  \n",
        "  \n",
        "## CSMODEL Case Study\n",
        "\n",
        "Joseph Eusebio (S15)\n",
        "Kenwin Reyes (S15)"
      ]
    },
    {
      "cell_type": "code",
      "execution_count": null,
      "metadata": {
        "id": "iuUsN37casue"
      },
      "outputs": [],
      "source": [
        "import numpy as np\n",
        "import pandas as pd\n",
        "import seaborn as sns\n",
        "import matplotlib.pyplot as plt\n",
        "import warnings"
      ]
    },
    {
      "cell_type": "markdown",
      "metadata": {
        "id": "wOrpVP-vybfq"
      },
      "source": [
        "# Dataset Description\n",
        "\n"
      ]
    },
    {
      "cell_type": "markdown",
      "metadata": {
        "id": "QJw66p-xvfuh"
      },
      "source": [
        "The dataset we are using is called \"[Stroke Prediction](https://www.kaggle.com/datasets/fedesoriano/stroke-prediction-dataset/data)\" and it is used to predict a patients likelihood of experiencing a stroke based on parameters such as their gender, age, diseases they might have, as well as if they smoke."
      ]
    },
    {
      "cell_type": "markdown",
      "metadata": {
        "id": "N1C2yLMAvfuh"
      },
      "source": [
        "## Data Collection\n",
        "The dataset used in this research was obtained from a confidential source. Due to the confidential nature of the data, details about the specific source are not disclosed to maintain privacy and adhere to the terms of use. The data is intended for educational purposes only, and any utilization for research purposes requires proper crediting to the author, as specified by the source."
      ]
    },
    {
      "cell_type": "markdown",
      "metadata": {
        "id": "oQ4Xb4rjvfuh"
      },
      "source": [
        "The dataset is from: https://www.kaggle.com/datasets/fedesoriano/stroke-prediction-dataset/data   \n",
        "\n",
        "By the author: Federico Soriano Palacios  \n",
        "LinkedIn: https://www.linkedin.com/in/federico-soriano-palacios/  \n",
        "Kaggle: https://www.kaggle.com/fedesoriano  \n",
        "Github: https://github.com/fedesoriano"
      ]
    },
    {
      "cell_type": "code",
      "execution_count": null,
      "metadata": {
        "id": "nXhpHki6aoWk"
      },
      "outputs": [],
      "source": [
        "stroke_df = pd.read_csv('datasets/healthcare-dataset-stroke-data.csv')"
      ]
    },
    {
      "cell_type": "code",
      "execution_count": null,
      "metadata": {
        "id": "K0BLW-5qax4m",
        "outputId": "889e008a-b044-4e7c-8408-2ada840bedbe"
      },
      "outputs": [
        {
          "name": "stdout",
          "output_type": "stream",
          "text": [
            "<class 'pandas.core.frame.DataFrame'>\n",
            "RangeIndex: 5110 entries, 0 to 5109\n",
            "Data columns (total 12 columns):\n",
            " #   Column             Non-Null Count  Dtype  \n",
            "---  ------             --------------  -----  \n",
            " 0   id                 5110 non-null   int64  \n",
            " 1   gender             5110 non-null   object \n",
            " 2   age                5110 non-null   float64\n",
            " 3   hypertension       5110 non-null   int64  \n",
            " 4   heart_disease      5110 non-null   int64  \n",
            " 5   ever_married       5110 non-null   object \n",
            " 6   work_type          5110 non-null   object \n",
            " 7   Residence_type     5110 non-null   object \n",
            " 8   avg_glucose_level  5110 non-null   float64\n",
            " 9   bmi                4909 non-null   float64\n",
            " 10  smoking_status     5110 non-null   object \n",
            " 11  stroke             5110 non-null   int64  \n",
            "dtypes: float64(3), int64(4), object(5)\n",
            "memory usage: 479.2+ KB\n"
          ]
        }
      ],
      "source": [
        "stroke_df.info()"
      ]
    },
    {
      "cell_type": "markdown",
      "metadata": {
        "id": "IPN8S4yAvfui"
      },
      "source": [
        "Each row in the dataset is a patient and each column is a characteristic of each patient with the last column \"stroke\" being whether or not they had a stroke.\n",
        "\n",
        "There are a total of 5110 observations and 12 variables in the dataset."
      ]
    },
    {
      "cell_type": "markdown",
      "metadata": {
        "id": "XJMwz3LCvfui"
      },
      "source": [
        "## Variable Description"
      ]
    },
    {
      "cell_type": "markdown",
      "metadata": {
        "id": "1JFAStE0vfui"
      },
      "source": [
        "The following descriptions of the variables are directly gotten from the source webpage of the dataset.\n",
        "\n",
        "1.) id: Unique identifier  \n",
        "2.) gender: \"Male\", \"Female\", or \"Other\" to specify the individuals gender  \n",
        "3.) age: Age of the patient  \n",
        "4.) hypertension:  1 If the patient has hypertension, 0 If the patient has no hypertension  \n",
        "5.) heart_disease: 1 If the patient has heart disease, 0 If the patient has no heart disease  \n",
        "6.) ever_married: \"No\" or \"Yes\" if the person has married  \n",
        "7.) work_type: \"children\", \"Govt_jov\", \"Never_worked\", \"Private\", or \"Self-employed\"  \n",
        "8.) Residence_type: \"Rural\" or \"Urban\"  \n",
        "9.) avg_glucose_level: average glucose level in the blood of the patient  \n",
        "10.) bmi: body mass index of the patient  \n",
        "11.) smoking_status: \"formerly smoked\", \"never smoked\", \"smokes\", or \"Unknown\" meaning information of the patient was not available  \n",
        "12.) stroke: 1 If the patient had a stroke, 0 If the patient didn't have a stroke\n"
      ]
    },
    {
      "cell_type": "markdown",
      "metadata": {
        "id": "YEwlsENiylAI"
      },
      "source": [
        "# Data Cleaning"
      ]
    },
    {
      "cell_type": "markdown",
      "metadata": {
        "id": "kgVEQ_-evfui"
      },
      "source": [
        "### Checking for any null values\n",
        "\n"
      ]
    },
    {
      "cell_type": "code",
      "execution_count": null,
      "metadata": {
        "id": "NCL8X3TsaLHM",
        "outputId": "ca45e1f7-043d-4603-f6d7-89ef156e8948"
      },
      "outputs": [
        {
          "data": {
            "text/plain": [
              "id                   False\n",
              "gender               False\n",
              "age                  False\n",
              "hypertension         False\n",
              "heart_disease        False\n",
              "ever_married         False\n",
              "work_type            False\n",
              "Residence_type       False\n",
              "avg_glucose_level    False\n",
              "bmi                   True\n",
              "smoking_status       False\n",
              "stroke               False\n",
              "dtype: bool"
            ]
          },
          "execution_count": 197,
          "metadata": {},
          "output_type": "execute_result"
        }
      ],
      "source": [
        "stroke_df.isnull().any()"
      ]
    },
    {
      "cell_type": "code",
      "execution_count": null,
      "metadata": {
        "id": "nOCTZ1OEa1Ec",
        "outputId": "21108138-7690-40c8-83a9-9984cb2ca6c8"
      },
      "outputs": [
        {
          "data": {
            "text/plain": [
              "201"
            ]
          },
          "execution_count": 198,
          "metadata": {},
          "output_type": "execute_result"
        }
      ],
      "source": [
        "stroke_df['bmi'].isnull().sum()"
      ]
    },
    {
      "cell_type": "code",
      "execution_count": null,
      "metadata": {
        "id": "SnFWjscva4Pm",
        "outputId": "4f74a3c1-cf76-4bb2-8baa-70adfb7ecd3b"
      },
      "outputs": [
        {
          "data": {
            "text/plain": [
              "(5110, 12)"
            ]
          },
          "execution_count": 199,
          "metadata": {},
          "output_type": "execute_result"
        }
      ],
      "source": [
        "stroke_df.shape"
      ]
    },
    {
      "cell_type": "markdown",
      "metadata": {
        "id": "hkR95gaavfuj"
      },
      "source": [
        "Dropping observations with null values for \"bmi\""
      ]
    },
    {
      "cell_type": "code",
      "execution_count": null,
      "metadata": {
        "id": "s9kAkKPYa6ic"
      },
      "outputs": [],
      "source": [
        "stroke_df = stroke_df.dropna(subset='bmi')"
      ]
    },
    {
      "cell_type": "markdown",
      "metadata": {
        "id": "cNrGnByBvfuj"
      },
      "source": [
        "The reason why we are dropping observations with a null bmi in the dataset about stroke prediction is because the body mass index (BMI) is an important health indicator that can affect the likelihood of experiencing a stroke. Since the dataset is used to predict a patient's likelihood of experiencing a stroke based on various health indicators, including BMI, it is important to have complete data for this variable. Dropping observations with null values for BMI ensures that we have a complete dataset for analysis and modeling."
      ]
    },
    {
      "cell_type": "code",
      "execution_count": null,
      "metadata": {
        "id": "JANWgVS4bATO",
        "outputId": "0ceaafe3-b533-4f53-95e8-2be1b21f4f9d"
      },
      "outputs": [
        {
          "data": {
            "text/plain": [
              "(4909, 12)"
            ]
          },
          "execution_count": 201,
          "metadata": {},
          "output_type": "execute_result"
        }
      ],
      "source": [
        "stroke_df.shape"
      ]
    },
    {
      "cell_type": "code",
      "execution_count": null,
      "metadata": {
        "id": "G-70k0ARvfuk",
        "outputId": "b3778a16-eb91-4352-e021-5aaf8a47cafb"
      },
      "outputs": [
        {
          "data": {
            "text/html": [
              "<div>\n",
              "<style scoped>\n",
              "    .dataframe tbody tr th:only-of-type {\n",
              "        vertical-align: middle;\n",
              "    }\n",
              "\n",
              "    .dataframe tbody tr th {\n",
              "        vertical-align: top;\n",
              "    }\n",
              "\n",
              "    .dataframe thead th {\n",
              "        text-align: right;\n",
              "    }\n",
              "</style>\n",
              "<table border=\"1\" class=\"dataframe\">\n",
              "  <thead>\n",
              "    <tr style=\"text-align: right;\">\n",
              "      <th></th>\n",
              "      <th>id</th>\n",
              "      <th>gender</th>\n",
              "      <th>age</th>\n",
              "      <th>hypertension</th>\n",
              "      <th>heart_disease</th>\n",
              "      <th>ever_married</th>\n",
              "      <th>work_type</th>\n",
              "      <th>Residence_type</th>\n",
              "      <th>avg_glucose_level</th>\n",
              "      <th>bmi</th>\n",
              "      <th>smoking_status</th>\n",
              "      <th>stroke</th>\n",
              "    </tr>\n",
              "  </thead>\n",
              "  <tbody>\n",
              "    <tr>\n",
              "      <th>0</th>\n",
              "      <td>9046</td>\n",
              "      <td>Male</td>\n",
              "      <td>67.0</td>\n",
              "      <td>0</td>\n",
              "      <td>1</td>\n",
              "      <td>Yes</td>\n",
              "      <td>Private</td>\n",
              "      <td>Urban</td>\n",
              "      <td>228.69</td>\n",
              "      <td>36.6</td>\n",
              "      <td>formerly smoked</td>\n",
              "      <td>1</td>\n",
              "    </tr>\n",
              "    <tr>\n",
              "      <th>2</th>\n",
              "      <td>31112</td>\n",
              "      <td>Male</td>\n",
              "      <td>80.0</td>\n",
              "      <td>0</td>\n",
              "      <td>1</td>\n",
              "      <td>Yes</td>\n",
              "      <td>Private</td>\n",
              "      <td>Rural</td>\n",
              "      <td>105.92</td>\n",
              "      <td>32.5</td>\n",
              "      <td>never smoked</td>\n",
              "      <td>1</td>\n",
              "    </tr>\n",
              "    <tr>\n",
              "      <th>3</th>\n",
              "      <td>60182</td>\n",
              "      <td>Female</td>\n",
              "      <td>49.0</td>\n",
              "      <td>0</td>\n",
              "      <td>0</td>\n",
              "      <td>Yes</td>\n",
              "      <td>Private</td>\n",
              "      <td>Urban</td>\n",
              "      <td>171.23</td>\n",
              "      <td>34.4</td>\n",
              "      <td>smokes</td>\n",
              "      <td>1</td>\n",
              "    </tr>\n",
              "    <tr>\n",
              "      <th>4</th>\n",
              "      <td>1665</td>\n",
              "      <td>Female</td>\n",
              "      <td>79.0</td>\n",
              "      <td>1</td>\n",
              "      <td>0</td>\n",
              "      <td>Yes</td>\n",
              "      <td>Self-employed</td>\n",
              "      <td>Rural</td>\n",
              "      <td>174.12</td>\n",
              "      <td>24.0</td>\n",
              "      <td>never smoked</td>\n",
              "      <td>1</td>\n",
              "    </tr>\n",
              "    <tr>\n",
              "      <th>5</th>\n",
              "      <td>56669</td>\n",
              "      <td>Male</td>\n",
              "      <td>81.0</td>\n",
              "      <td>0</td>\n",
              "      <td>0</td>\n",
              "      <td>Yes</td>\n",
              "      <td>Private</td>\n",
              "      <td>Urban</td>\n",
              "      <td>186.21</td>\n",
              "      <td>29.0</td>\n",
              "      <td>formerly smoked</td>\n",
              "      <td>1</td>\n",
              "    </tr>\n",
              "  </tbody>\n",
              "</table>\n",
              "</div>"
            ],
            "text/plain": [
              "      id  gender   age  hypertension  heart_disease ever_married  \\\n",
              "0   9046    Male  67.0             0              1          Yes   \n",
              "2  31112    Male  80.0             0              1          Yes   \n",
              "3  60182  Female  49.0             0              0          Yes   \n",
              "4   1665  Female  79.0             1              0          Yes   \n",
              "5  56669    Male  81.0             0              0          Yes   \n",
              "\n",
              "       work_type Residence_type  avg_glucose_level   bmi   smoking_status  \\\n",
              "0        Private          Urban             228.69  36.6  formerly smoked   \n",
              "2        Private          Rural             105.92  32.5     never smoked   \n",
              "3        Private          Urban             171.23  34.4           smokes   \n",
              "4  Self-employed          Rural             174.12  24.0     never smoked   \n",
              "5        Private          Urban             186.21  29.0  formerly smoked   \n",
              "\n",
              "   stroke  \n",
              "0       1  \n",
              "2       1  \n",
              "3       1  \n",
              "4       1  \n",
              "5       1  "
            ]
          },
          "execution_count": 202,
          "metadata": {},
          "output_type": "execute_result"
        }
      ],
      "source": [
        "stroke_df.head(5)"
      ]
    },
    {
      "cell_type": "markdown",
      "metadata": {
        "id": "1pPEmh1gvfuk"
      },
      "source": [
        "### Setting \"age\" values to int"
      ]
    },
    {
      "cell_type": "code",
      "execution_count": null,
      "metadata": {
        "id": "L8M7NM4qvfuk"
      },
      "outputs": [],
      "source": [
        "stroke_df['age'] = stroke_df['age'].round()"
      ]
    },
    {
      "cell_type": "code",
      "execution_count": null,
      "metadata": {
        "id": "4hL9sS3rvfuk"
      },
      "outputs": [],
      "source": [
        "stroke_df['age'] = stroke_df['age'].astype(int)"
      ]
    },
    {
      "cell_type": "code",
      "execution_count": null,
      "metadata": {
        "id": "Wp1CdbwHvful",
        "outputId": "eeb6910a-24a5-4aa8-9184-883d84dbea32"
      },
      "outputs": [
        {
          "data": {
            "text/plain": [
              "id                     int64\n",
              "gender                object\n",
              "age                    int32\n",
              "hypertension           int64\n",
              "heart_disease          int64\n",
              "ever_married          object\n",
              "work_type             object\n",
              "Residence_type        object\n",
              "avg_glucose_level    float64\n",
              "bmi                  float64\n",
              "smoking_status        object\n",
              "stroke                 int64\n",
              "dtype: object"
            ]
          },
          "metadata": {},
          "output_type": "display_data"
        }
      ],
      "source": [
        "display(stroke_df.dtypes)"
      ]
    },
    {
      "cell_type": "markdown",
      "metadata": {
        "id": "dXJPuzkTvful"
      },
      "source": [
        "Changing the values of age from float to int by rounding is done to make the data more readable and easier to work with. Age is a discrete variable, so it makes sense to represent it as an integer rather than a float. Rounding the age values to the nearest integer ensures that the data is still accurate while making it easier to understand and analyze. Additionally, many statistical methods require integer values, so rounding the age values to the nearest integer can make it easier to perform statistical analyses on the data."
      ]
    },
    {
      "cell_type": "markdown",
      "metadata": {
        "id": "dUXQW2Hwvful"
      },
      "source": [
        "## Dropping of the single observation with the \"Other\" value for gender\n",
        "\n",
        "The reason why we are dropping the single observation with \"Other\" value for gender is because the dataset is used to predict a patient's likelihood of experiencing a stroke based on various health indicators, including gender. Since the \"Other\" value for gender is not a common value and there is only one observation with this value, it is difficult to accurately predict the likelihood of experiencing a stroke for patients with this value."
      ]
    },
    {
      "cell_type": "code",
      "execution_count": null,
      "metadata": {
        "id": "o_giy-MOvful",
        "outputId": "164222ee-9097-4c7a-f9c6-b7f85fd53281"
      },
      "outputs": [
        {
          "data": {
            "text/plain": [
              "(4908, 12)"
            ]
          },
          "execution_count": 206,
          "metadata": {},
          "output_type": "execute_result"
        }
      ],
      "source": [
        "stroke_df = stroke_df[stroke_df['gender'] != 'Other']\n",
        "stroke_df.shape"
      ]
    },
    {
      "cell_type": "markdown",
      "metadata": {
        "id": "OXEAxeUuyodc"
      },
      "source": [
        "# Exploratory Data Analysis"
      ]
    },
    {
      "cell_type": "markdown",
      "metadata": {
        "id": "BbJQMcJavful"
      },
      "source": [
        "## Summary Statistics"
      ]
    },
    {
      "cell_type": "code",
      "execution_count": null,
      "metadata": {
        "id": "wzfSdqytvful",
        "outputId": "b86db120-5536-430d-bab7-c2d5b114e40f"
      },
      "outputs": [
        {
          "data": {
            "text/html": [
              "<div>\n",
              "<style scoped>\n",
              "    .dataframe tbody tr th:only-of-type {\n",
              "        vertical-align: middle;\n",
              "    }\n",
              "\n",
              "    .dataframe tbody tr th {\n",
              "        vertical-align: top;\n",
              "    }\n",
              "\n",
              "    .dataframe thead th {\n",
              "        text-align: right;\n",
              "    }\n",
              "</style>\n",
              "<table border=\"1\" class=\"dataframe\">\n",
              "  <thead>\n",
              "    <tr style=\"text-align: right;\">\n",
              "      <th></th>\n",
              "      <th>age</th>\n",
              "      <th>hypertension</th>\n",
              "      <th>heart_disease</th>\n",
              "      <th>avg_glucose_level</th>\n",
              "      <th>bmi</th>\n",
              "      <th>stroke</th>\n",
              "    </tr>\n",
              "  </thead>\n",
              "  <tbody>\n",
              "    <tr>\n",
              "      <th>mean</th>\n",
              "      <td>42.868989</td>\n",
              "      <td>0.091891</td>\n",
              "      <td>0.049511</td>\n",
              "      <td>105.297402</td>\n",
              "      <td>28.89456</td>\n",
              "      <td>0.042584</td>\n",
              "    </tr>\n",
              "    <tr>\n",
              "      <th>std</th>\n",
              "      <td>22.555878</td>\n",
              "      <td>0.288901</td>\n",
              "      <td>0.216954</td>\n",
              "      <td>44.425550</td>\n",
              "      <td>7.85432</td>\n",
              "      <td>0.201937</td>\n",
              "    </tr>\n",
              "    <tr>\n",
              "      <th>min</th>\n",
              "      <td>0.000000</td>\n",
              "      <td>0.000000</td>\n",
              "      <td>0.000000</td>\n",
              "      <td>55.120000</td>\n",
              "      <td>10.30000</td>\n",
              "      <td>0.000000</td>\n",
              "    </tr>\n",
              "    <tr>\n",
              "      <th>25%</th>\n",
              "      <td>25.000000</td>\n",
              "      <td>0.000000</td>\n",
              "      <td>0.000000</td>\n",
              "      <td>77.067500</td>\n",
              "      <td>23.50000</td>\n",
              "      <td>0.000000</td>\n",
              "    </tr>\n",
              "    <tr>\n",
              "      <th>50%</th>\n",
              "      <td>44.000000</td>\n",
              "      <td>0.000000</td>\n",
              "      <td>0.000000</td>\n",
              "      <td>91.680000</td>\n",
              "      <td>28.10000</td>\n",
              "      <td>0.000000</td>\n",
              "    </tr>\n",
              "    <tr>\n",
              "      <th>75%</th>\n",
              "      <td>60.000000</td>\n",
              "      <td>0.000000</td>\n",
              "      <td>0.000000</td>\n",
              "      <td>113.495000</td>\n",
              "      <td>33.10000</td>\n",
              "      <td>0.000000</td>\n",
              "    </tr>\n",
              "    <tr>\n",
              "      <th>max</th>\n",
              "      <td>82.000000</td>\n",
              "      <td>1.000000</td>\n",
              "      <td>1.000000</td>\n",
              "      <td>271.740000</td>\n",
              "      <td>97.60000</td>\n",
              "      <td>1.000000</td>\n",
              "    </tr>\n",
              "  </tbody>\n",
              "</table>\n",
              "</div>"
            ],
            "text/plain": [
              "            age  hypertension  heart_disease  avg_glucose_level       bmi  \\\n",
              "mean  42.868989      0.091891       0.049511         105.297402  28.89456   \n",
              "std   22.555878      0.288901       0.216954          44.425550   7.85432   \n",
              "min    0.000000      0.000000       0.000000          55.120000  10.30000   \n",
              "25%   25.000000      0.000000       0.000000          77.067500  23.50000   \n",
              "50%   44.000000      0.000000       0.000000          91.680000  28.10000   \n",
              "75%   60.000000      0.000000       0.000000         113.495000  33.10000   \n",
              "max   82.000000      1.000000       1.000000         271.740000  97.60000   \n",
              "\n",
              "        stroke  \n",
              "mean  0.042584  \n",
              "std   0.201937  \n",
              "min   0.000000  \n",
              "25%   0.000000  \n",
              "50%   0.000000  \n",
              "75%   0.000000  \n",
              "max   1.000000  "
            ]
          },
          "execution_count": 207,
          "metadata": {},
          "output_type": "execute_result"
        }
      ],
      "source": [
        "stroke_df.drop('id', axis=1).describe().drop('count')\n"
      ]
    },
    {
      "cell_type": "markdown",
      "metadata": {
        "id": "N2z6h1osvful"
      },
      "source": [
        "## What is the distribution of age, bmi, and average glucose levels across the dataset?"
      ]
    },
    {
      "cell_type": "markdown",
      "metadata": {
        "id": "7udy_tv1vful"
      },
      "source": [
        "We are exploring the distribution of age, bmi, and average glucose levels across the dataset to gain a better understanding of the characteristics of the patients in the dataset"
      ]
    },
    {
      "cell_type": "code",
      "execution_count": null,
      "metadata": {
        "id": "rIhOVRynvfum",
        "outputId": "c3f2d9cf-0f92-4f23-e24b-d6aa3df3c9f3"
      },
      "outputs": [
        {
          "data": {
            "image/png": "[encoded data removed]",
            "text/plain": [
              "<Figure size 500x500 with 1 Axes>"
            ]
          },
          "metadata": {},
          "output_type": "display_data"
        }
      ],
      "source": [
        "warnings.filterwarnings('ignore')\n",
        "\n",
        "sns.displot(stroke_df['age'], bins=30, kde=True, edgecolor='white')\n",
        "plt.xlabel('Age')\n",
        "plt.ylabel('Frequency')\n",
        "plt.title('Histogram of Age')\n",
        "\n",
        "\n",
        "plt.show()\n"
      ]
    },
    {
      "cell_type": "code",
      "execution_count": null,
      "metadata": {
        "id": "E1fIMi38vfum",
        "outputId": "e33fd8f5-2408-48fa-fda3-da57af652190"
      },
      "outputs": [
        {
          "name": "stdout",
          "output_type": "stream",
          "text": [
            "The proportion of people in the age range of 40 to 60 compared to those who aren't is 41.52%\n"
          ]
        }
      ],
      "source": [
        "# count the number of people in the age range of 40 to 60\n",
        "age_range_count = ((stroke_df['age'] > 40) & (stroke_df['age'] < 60)).sum()\n",
        "\n",
        "# count the number of people who are not in the age range of 40 to 60\n",
        "not_age_range_count = ((stroke_df['age'] <= 40) | (stroke_df['age'] >= 60)).sum()\n",
        "\n",
        "# calculate the proportion of people in the age range of 40 to 60 compared to those who aren't\n",
        "proportion = age_range_count / not_age_range_count\n",
        "\n",
        "# display the proportion in percent\n",
        "print(f\"The proportion of people in the age range of 40 to 60 compared to those who aren't is {proportion*100:.2f}%\")\n"
      ]
    },
    {
      "cell_type": "markdown",
      "metadata": {
        "id": "Do4wc_jqvfum"
      },
      "source": [
        "This visualization shows us the distribution of age across the dataset. The x-axis represents the age of the patients, and the y-axis represents the frequency of patients with that age.  \n",
        "  \n",
        "I can be seen from the histogram that\n"
      ]
    },
    {
      "cell_type": "code",
      "execution_count": null,
      "metadata": {
        "id": "j6XT01SRvfum",
        "outputId": "929fe84e-77ad-4fee-c5f6-3d7d2b22dc68"
      },
      "outputs": [
        {
          "data": {
            "image/png": "[encoded data removed]",
            "text/plain": [
              "<Figure size 500x500 with 1 Axes>"
            ]
          },
          "metadata": {},
          "output_type": "display_data"
        }
      ],
      "source": [
        "# Histogram of bmi\n",
        "sns.displot(stroke_df['bmi'], bins=30, kde=True)\n",
        "plt.xlabel('BMI')\n",
        "plt.ylabel('Frequency')\n",
        "plt.title('Histogram of BMI')\n",
        "plt.show()"
      ]
    },
    {
      "cell_type": "code",
      "execution_count": null,
      "metadata": {
        "id": "VD9eMWf_vfum",
        "outputId": "e1b64c82-64f5-4500-a893-55dbfcdea7c4"
      },
      "outputs": [
        {
          "data": {
            "image/png": "[encoded data removed]",
            "text/plain": [
              "<Figure size 500x500 with 1 Axes>"
            ]
          },
          "metadata": {},
          "output_type": "display_data"
        }
      ],
      "source": [
        "# Histogram of average glucose level\n",
        "sns.displot(stroke_df['avg_glucose_level'], bins=50, kde=True)\n",
        "plt.xlabel('Average Glucose Level')\n",
        "plt.ylabel('Frequency')\n",
        "plt.title('Histogram of Average Glucose Level')\n",
        "plt.show()"
      ]
    },
    {
      "cell_type": "markdown",
      "metadata": {
        "id": "LRyhoDoPvfum"
      },
      "source": [
        "# Everything before this point is done."
      ]
    },
    {
      "cell_type": "markdown",
      "metadata": {
        "id": "aQgoLuThvfup"
      },
      "source": [
        "## What is the proportion of the people who had stroke in the dataset"
      ]
    },
    {
      "cell_type": "code",
      "execution_count": null,
      "metadata": {
        "id": "4BC_IogTvfup",
        "outputId": "2c309729-6c5d-4f27-fddd-48b774e1657a"
      },
      "outputs": [
        {
          "data": {
            "image/png": "[encoded data removed]",
            "text/plain": [
              "<Figure size 640x480 with 1 Axes>"
            ]
          },
          "metadata": {},
          "output_type": "display_data"
        }
      ],
      "source": [
        "stroke_count = stroke_df['stroke'].sum()\n",
        "total_count = stroke_df.shape[0]\n",
        "proportion = stroke_count / total_count\n",
        "\n",
        "labels = ['No Stroke', 'Stroke']\n",
        "sizes = [1-proportion, proportion]\n",
        "colors = ['lightblue', 'red']\n",
        "\n",
        "plt.pie(sizes, labels=labels, colors=colors, autopct='%1.1f%%', startangle=90)\n",
        "plt.axis('equal')\n",
        "plt.title('Proportion of People with Stroke')\n",
        "plt.show()\n"
      ]
    },
    {
      "cell_type": "markdown",
      "metadata": {
        "id": "dDtjST-Uvfuq"
      },
      "source": [
        "## What is the proportion of Male to Female in the dataset?"
      ]
    },
    {
      "cell_type": "code",
      "execution_count": null,
      "metadata": {
        "id": "sT0Vvr-Pvfuq",
        "outputId": "fcceb68f-8309-4998-e4af-b88825d17c8d"
      },
      "outputs": [
        {
          "data": {
            "image/png": "[encoded data removed]",
            "text/plain": [
              "<Figure size 640x480 with 1 Axes>"
            ]
          },
          "metadata": {},
          "output_type": "display_data"
        }
      ],
      "source": [
        "gender_count = stroke_df['gender'].value_counts()\n",
        "labels = gender_count.index.tolist()\n",
        "sizes = gender_count.values.tolist()\n",
        "colors = ['pink', 'lightblue']\n",
        "\n",
        "plt.pie(sizes, labels=labels, colors=colors, autopct='%1.1f%%', startangle=90, counterclock=False)\n",
        "plt.axis('equal')\n",
        "plt.title('Proportion of Male to Female')\n",
        "plt.show()\n"
      ]
    },
    {
      "cell_type": "markdown",
      "metadata": {
        "id": "SZivi7tDvfuq"
      },
      "source": [
        "## The distribution of stroke based on gender"
      ]
    },
    {
      "cell_type": "code",
      "execution_count": null,
      "metadata": {
        "id": "NxU7dRrJvfuq",
        "outputId": "100a8c15-2f7c-43dd-e343-0a934197ec3e"
      },
      "outputs": [
        {
          "name": "stdout",
          "output_type": "stream",
          "text": [
            "   gender  stroke  count\n",
            "0  Female       0   2777\n",
            "1  Female       1    120\n",
            "2    Male       0   1922\n",
            "3    Male       1     89\n"
          ]
        },
        {
          "data": {
            "image/png": "[encoded data removed]",
            "text/plain": [
              "<Figure size 640x480 with 1 Axes>"
            ]
          },
          "metadata": {},
          "output_type": "display_data"
        },
        {
          "data": {
            "image/png": "[encoded data removed]",
            "text/plain": [
              "<Figure size 640x480 with 1 Axes>"
            ]
          },
          "metadata": {},
          "output_type": "display_data"
        }
      ],
      "source": [
        "stroke_gender_count = stroke_df.groupby(['gender', 'stroke']).size().reset_index(name='count')\n",
        "print(stroke_gender_count)\n",
        "\n",
        "# Bar plot\n",
        "sns.countplot(data=stroke_df, x='gender', hue='stroke')\n",
        "plt.xlabel('Gender')\n",
        "plt.ylabel('Stroke Count')\n",
        "plt.title('Stroke Count by Gender')\n",
        "plt.show()\n",
        "\n",
        "# Pie chart\n",
        "labels = ['Female - No Stroke', 'Female - Stroke', 'Male - No Stroke', 'Male - Stroke']\n",
        "sizes = stroke_gender_count['count'].tolist()\n",
        "colors = ['pink', 'red', 'lightblue', 'blue']\n",
        "\n",
        "plt.pie(sizes, labels=labels, colors=colors, autopct='%1.1f%%', startangle=90, counterclock=False)\n",
        "plt.axis('equal')\n",
        "plt.title('Proportion of Stroke by Gender')\n",
        "plt.show()\n"
      ]
    },
    {
      "cell_type": "markdown",
      "metadata": {
        "id": "zt-lVgGAvfuq"
      },
      "source": [
        "## What are the relationships of the different health attributes to the stroke likelihood?"
      ]
    },
    {
      "cell_type": "code",
      "execution_count": null,
      "metadata": {
        "id": "acGYdBPgvfuq"
      },
      "outputs": [],
      "source": [
        "stroke_df['stroke'].corr(stroke_df['avg_glucose_level'])"
      ]
    },
    {
      "cell_type": "markdown",
      "source": [
        "The correlation of the average glucose level of a person to whether they had a stroke is none to low positive correlation"
      ],
      "metadata": {
        "id": "my-NXGiW0Ymj"
      }
    },
    {
      "cell_type": "code",
      "source": [
        "stroke_df['stroke'].corr(stroke_df['bmi'])"
      ],
      "metadata": {
        "id": "hcYPFwcB0Vz4"
      },
      "execution_count": null,
      "outputs": []
    },
    {
      "cell_type": "markdown",
      "source": [
        "The correlation of the body mass index of a person to whether they had a stroke is none to low positive correlation"
      ],
      "metadata": {
        "id": "XUq8jlNA0wwi"
      }
    },
    {
      "cell_type": "code",
      "source": [
        "stroke_df['hypertension'].corr(stroke_df['stroke'])"
      ],
      "metadata": {
        "id": "oZ6k6LRK4Gv1"
      },
      "execution_count": null,
      "outputs": []
    },
    {
      "cell_type": "markdown",
      "source": [
        "The correlation of whether the person has hypertension to whether they had a stroke is none to low positive correlation"
      ],
      "metadata": {
        "id": "LuBSrIao4O7c"
      }
    },
    {
      "cell_type": "code",
      "source": [
        "stroke_df['heart_disease'].corr(stroke_df['stroke'])"
      ],
      "metadata": {
        "id": "7ylj6y1-4g-C"
      },
      "execution_count": null,
      "outputs": []
    },
    {
      "cell_type": "markdown",
      "source": [
        "The correlation of whether the person has a heart disease to whether they had a stroke is none to low positive correlation"
      ],
      "metadata": {
        "id": "loB164tB4lUj"
      }
    },
    {
      "cell_type": "code",
      "source": [
        "stroke_df1 = stroke_df.copy()\n",
        "stroke_df1['smoking_status'] = stroke_df1['smoking_status'].map({'never smoked': 0, 'formerly smoked': 1, 'smokes': 2})"
      ],
      "metadata": {
        "id": "MOVZVOXH7wMR"
      },
      "execution_count": null,
      "outputs": []
    },
    {
      "cell_type": "markdown",
      "source": [
        "We replace the smoking_status variable to numerical values so that we can use correlation"
      ],
      "metadata": {
        "id": "X7bVvRhd7y0h"
      }
    },
    {
      "cell_type": "code",
      "source": [
        "stroke_df1['smoking_status'].value_counts()"
      ],
      "metadata": {
        "id": "8n8Jd3oU8AuF"
      },
      "execution_count": null,
      "outputs": []
    },
    {
      "cell_type": "code",
      "source": [
        "stroke_df1['smoking_status'].isnull().sum()"
      ],
      "metadata": {
        "id": "Fb7N_LvC8EWk"
      },
      "execution_count": null,
      "outputs": []
    },
    {
      "cell_type": "markdown",
      "source": [
        "We didn't map the 'unknown' values in the 'smoking_status' variable, making it mapped to NaN, which we plan to remove from the table"
      ],
      "metadata": {
        "id": "mSapXZ358Itp"
      }
    },
    {
      "cell_type": "code",
      "source": [
        "stroke_df1 = stroke_df1.dropna(subset='smoking_status')\n",
        "stroke_df1['smoking_status'].isnull().sum()"
      ],
      "metadata": {
        "id": "-NWPNRQh8H5r"
      },
      "execution_count": null,
      "outputs": []
    },
    {
      "cell_type": "markdown",
      "source": [
        "Since there are no more null values, we can now proceed to correlation"
      ],
      "metadata": {
        "id": "Rq2njEOr8t1v"
      }
    },
    {
      "cell_type": "code",
      "source": [
        "stroke_df1['smoking_status'].corr(stroke_df1['stroke'])"
      ],
      "metadata": {
        "id": "Ndr3qIvb8qFJ"
      },
      "execution_count": null,
      "outputs": []
    },
    {
      "cell_type": "markdown",
      "source": [
        "The correlation of whether the person never smoked, formerly smoked, or still smokes to whether they had a stroke is none to low positive correlation"
      ],
      "metadata": {
        "id": "Z8sANWxo81l8"
      }
    },
    {
      "cell_type": "markdown",
      "metadata": {
        "id": "u_9AtL3IysC6"
      },
      "source": [
        "# Research Question"
      ]
    }
  ],
  "metadata": {
    "colab": {
      "provenance": [],
      "toc_visible": true,
      "include_colab_link": true
    },
    "kernelspec": {
      "display_name": "Python 3 (ipykernel)",
      "language": "python",
      "name": "python3"
    },
    "language_info": {
      "codemirror_mode": {
        "name": "ipython",
        "version": 3
      },
      "file_extension": ".py",
      "mimetype": "text/x-python",
      "name": "python",
      "nbconvert_exporter": "python",
      "pygments_lexer": "ipython3",
      "version": "3.11.5"
    }
  },
  "nbformat": 4,
  "nbformat_minor": 0
}